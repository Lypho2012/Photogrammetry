{
 "cells": [
  {
   "cell_type": "code",
   "execution_count": 1,
   "metadata": {},
   "outputs": [
    {
     "name": "stdout",
     "output_type": "stream",
     "text": [
      "Collecting package metadata (current_repodata.json): done\n",
      "Solving environment: done\n",
      "\n",
      "\n",
      "==> WARNING: A newer version of conda exists. <==\n",
      "  current version: 4.11.0\n",
      "  latest version: 24.1.2\n",
      "\n",
      "Please update conda by running\n",
      "\n",
      "    $ conda update -n base -c defaults conda\n",
      "\n",
      "\n",
      "\n",
      "# All requested packages already installed.\n",
      "\n",
      "\n",
      "Note: you may need to restart the kernel to use updated packages.\n"
     ]
    }
   ],
   "source": [
    "%conda install plotly -y"
   ]
  },
  {
   "cell_type": "code",
   "execution_count": 2,
   "metadata": {},
   "outputs": [],
   "source": [
    "import cv2\n",
    "import numpy as np\n",
    "from matplotlib import pyplot as plt\n",
    "import pandas as pd\n",
    "import os\n",
    "import sys\n",
    "import pathlib\n",
    "import open3d as o3d\n",
    "import plotly\n",
    "import plotly.graph_objects as go\n",
    "import exifread"
   ]
  },
  {
   "cell_type": "code",
   "execution_count": 3,
   "metadata": {},
   "outputs": [],
   "source": [
    "def get_colors_from_ply(plyfile):\n",
    "    '''\n",
    "    Function to read the colors from a .ply file\n",
    "    returns an RGB array scaled between [0,1]\n",
    "    '''\n",
    "    with open(plyfile, 'r') as f:\n",
    "        colors = []\n",
    "        columns = {}\n",
    "        col_idx = 0\n",
    "        header_done = False\n",
    "        for line in f.readlines():\n",
    "            if line.startswith('property'):\n",
    "                columns[line.split()[-1]] = col_idx\n",
    "                col_idx += 1\n",
    "            if header_done:\n",
    "                line_list = line.split()\n",
    "                colors.append([float(line_list[columns['diffuse_red']]),\n",
    "                              float(line_list[columns['diffuse_green']]),\n",
    "                              float(line_list[columns['diffuse_blue']])\n",
    "                              ])\n",
    "            if line.startswith('end_header'):\n",
    "                header_done = True\n",
    "        colors = np.array(colors)/255\n",
    "    return colors"
   ]
  },
  {
   "cell_type": "code",
   "execution_count": 4,
   "metadata": {},
   "outputs": [],
   "source": [
    "# read point cloud data\n",
    "pcd = o3d.io.read_point_cloud(\"mickey_with_ears/merged.ply\", format='ply')\n",
    "# store the colors\n",
    "pcd.colors = o3d.utility.Vector3dVector(get_colors_from_ply('mickey_with_ears/merged.ply'))\n",
    "\n",
    "# convert to array\n",
    "points = np.asarray(pcd.points)\n",
    "colors = np.asarray(pcd.colors)\n",
    "\n",
    "fig = go.Figure(\n",
    "    data=[\n",
    "        go.Scatter3d(\n",
    "            x=points[:,0], y=points[:,1], z=points[:,2], \n",
    "            mode='markers',\n",
    "            marker=dict(size=5, color=colors)\n",
    "        )\n",
    "    ],\n",
    "    layout=dict(\n",
    "        scene=dict(\n",
    "            xaxis=dict(visible=False),\n",
    "            yaxis=dict(visible=False),\n",
    "            zaxis=dict(visible=False)\n",
    "        )\n",
    "    )\n",
    ")\n",
    "fig.write_html('vis-dense.html')"
   ]
  }
 ],
 "metadata": {
  "kernelspec": {
   "display_name": "base",
   "language": "python",
   "name": "python3"
  },
  "language_info": {
   "codemirror_mode": {
    "name": "ipython",
    "version": 3
   },
   "file_extension": ".py",
   "mimetype": "text/x-python",
   "name": "python",
   "nbconvert_exporter": "python",
   "pygments_lexer": "ipython3",
   "version": "3.9.7"
  }
 },
 "nbformat": 4,
 "nbformat_minor": 2
}
